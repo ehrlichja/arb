{
 "cells": [
  {
   "cell_type": "code",
   "execution_count": 2,
   "metadata": {},
   "outputs": [],
   "source": [
    "import boto3\n",
    "import s3fs\n",
    "import pandas as pd"
   ]
  },
  {
   "cell_type": "code",
   "execution_count": 57,
   "metadata": {},
   "outputs": [
    {
     "data": {
      "text/plain": [
       "s3.Bucket.objectsCollection(s3.Bucket(name='ehrlich-arb-data'), s3.ObjectSummary)"
      ]
     },
     "execution_count": 57,
     "metadata": {},
     "output_type": "execute_result"
    }
   ],
   "source": [
    "s3 = boto3.resource('s3')\n",
    "obj = s3.Bucket('ehrlich-arb-data')\n",
    "obj.objects.filter()"
   ]
  },
  {
   "cell_type": "code",
   "execution_count": null,
   "metadata": {
    "collapsed": true
   },
   "outputs": [],
   "source": [
    "l = []\n",
    "for f in files:\n",
    "    df = pd.read_csv(f, header=0)\n",
    "    l.append(df)\n",
    "data = pd.concat(l)"
   ]
  },
  {
   "cell_type": "code",
   "execution_count": 32,
   "metadata": {},
   "outputs": [
    {
     "data": {
      "text/html": [
       "<div>\n",
       "<style scoped>\n",
       "    .dataframe tbody tr th:only-of-type {\n",
       "        vertical-align: middle;\n",
       "    }\n",
       "\n",
       "    .dataframe tbody tr th {\n",
       "        vertical-align: top;\n",
       "    }\n",
       "\n",
       "    .dataframe thead th {\n",
       "        text-align: right;\n",
       "    }\n",
       "</style>\n",
       "<table border=\"1\" class=\"dataframe\">\n",
       "  <thead>\n",
       "    <tr style=\"text-align: right;\">\n",
       "      <th></th>\n",
       "      <th>0</th>\n",
       "      <th>1</th>\n",
       "      <th>2</th>\n",
       "      <th>3</th>\n",
       "      <th>4</th>\n",
       "    </tr>\n",
       "  </thead>\n",
       "  <tbody>\n",
       "    <tr>\n",
       "      <th>0</th>\n",
       "      <td>1512351651924</td>\n",
       "      <td>COINGI</td>\n",
       "      <td>PPCBTC</td>\n",
       "      <td>0.00040</td>\n",
       "      <td>124.00</td>\n",
       "    </tr>\n",
       "    <tr>\n",
       "      <th>1</th>\n",
       "      <td>1512351651924</td>\n",
       "      <td>COINGI</td>\n",
       "      <td>PPCBTC</td>\n",
       "      <td>0.00043</td>\n",
       "      <td>39.10</td>\n",
       "    </tr>\n",
       "    <tr>\n",
       "      <th>2</th>\n",
       "      <td>1512351651924</td>\n",
       "      <td>COINGI</td>\n",
       "      <td>PPCBTC</td>\n",
       "      <td>0.00046</td>\n",
       "      <td>43.50</td>\n",
       "    </tr>\n",
       "    <tr>\n",
       "      <th>3</th>\n",
       "      <td>1512351651924</td>\n",
       "      <td>COINGI</td>\n",
       "      <td>PPCBTC</td>\n",
       "      <td>0.00049</td>\n",
       "      <td>369.56</td>\n",
       "    </tr>\n",
       "    <tr>\n",
       "      <th>4</th>\n",
       "      <td>1512351651924</td>\n",
       "      <td>COINGI</td>\n",
       "      <td>PPCBTC</td>\n",
       "      <td>0.00051</td>\n",
       "      <td>321.00</td>\n",
       "    </tr>\n",
       "  </tbody>\n",
       "</table>\n",
       "</div>"
      ],
      "text/plain": [
       "               0       1       2        3       4\n",
       "0  1512351651924  COINGI  PPCBTC  0.00040  124.00\n",
       "1  1512351651924  COINGI  PPCBTC  0.00043   39.10\n",
       "2  1512351651924  COINGI  PPCBTC  0.00046   43.50\n",
       "3  1512351651924  COINGI  PPCBTC  0.00049  369.56\n",
       "4  1512351651924  COINGI  PPCBTC  0.00051  321.00"
      ]
     },
     "execution_count": 32,
     "metadata": {},
     "output_type": "execute_result"
    }
   ],
   "source": [
    "data.head()"
   ]
  },
  {
   "cell_type": "code",
   "execution_count": 30,
   "metadata": {},
   "outputs": [
    {
     "data": {
      "text/plain": [
       "0    2017-12-04T01:21:15.271Z Andrews-MBP.gateway.s...\n",
       "1    2017-12-04T01:21:15.271Z Andrews-MBP.gateway.s...\n",
       "2    2017-12-04T01:21:15.271Z Andrews-MBP.gateway.s...\n",
       "3    2017-12-04T01:21:15.271Z Andrews-MBP.gateway.s...\n",
       "4    2017-12-04T01:21:15.271Z Andrews-MBP.gateway.s...\n",
       "Name: 0, dtype: object"
      ]
     },
     "execution_count": 30,
     "metadata": {},
     "output_type": "execute_result"
    }
   ],
   "source": [
    "data[0].head()"
   ]
  },
  {
   "cell_type": "code",
   "execution_count": null,
   "metadata": {
    "collapsed": true
   },
   "outputs": [],
   "source": []
  }
 ],
 "metadata": {
  "kernelspec": {
   "display_name": "Python 3",
   "language": "python",
   "name": "python3"
  },
  "language_info": {
   "codemirror_mode": {
    "name": "ipython",
    "version": 3
   },
   "file_extension": ".py",
   "mimetype": "text/x-python",
   "name": "python",
   "nbconvert_exporter": "python",
   "pygments_lexer": "ipython3",
   "version": "3.6.3"
  }
 },
 "nbformat": 4,
 "nbformat_minor": 2
}
