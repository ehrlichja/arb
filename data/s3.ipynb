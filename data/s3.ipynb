{
 "cells": [
  {
   "cell_type": "code",
   "execution_count": 2,
   "metadata": {
    "collapsed": true
   },
   "outputs": [],
   "source": [
    "import boto3\n",
    "import pandas as pd\n",
    "import os.path"
   ]
  },
  {
   "cell_type": "code",
   "execution_count": 25,
   "metadata": {},
   "outputs": [],
   "source": [
    "s3 = boto3.resource('s3')\n",
    "client = boto3.client(\"s3\")\n",
    "\n",
    "bucket = \"ehrlich-arb-data\"\n",
    "dateid = \"20171206\"\n",
    "\n",
    "buck = s3.Bucket(bucket)\n",
    "\n",
    "files = []\n",
    "for o in buck.objects.filter(Prefix=dateid).all():\n",
    "    files.append(o.key)\n",
    "\n",
    "if os.path.isdir(dateid) == False:\n",
    "    os.mkdir(dateid)    \n",
    "exists = []\n",
    "for f in files:\n",
    "    exists.append(os.path.isfile(f))"
   ]
  },
  {
   "cell_type": "code",
   "execution_count": 29,
   "metadata": {
    "scrolled": true
   },
   "outputs": [],
   "source": [
    "for f in files:\n",
    "    if os.path.isfile(f) == False:\n",
    "        print(f)\n",
    "        client.download_file(bucket, f, f)"
   ]
  },
  {
   "cell_type": "code",
   "execution_count": 33,
   "metadata": {},
   "outputs": [
    {
     "name": "stderr",
     "output_type": "stream",
     "text": [
      "/usr/local/lib/python3.6/site-packages/IPython/core/interactiveshell.py:2698: DtypeWarning: Columns (0) have mixed types. Specify dtype option on import or set low_memory=False.\n",
      "  interactivity=interactivity, compiler=compiler, result=result)\n"
     ]
    }
   ],
   "source": [
    "l = []\n",
    "for (i, f) in enumerate(files):\n",
    "    df = pd.read_csv(f, header=None)\n",
    "    l.append(df)\n",
    "    df.head()\n",
    "#data = pd.concat(l)"
   ]
  },
  {
   "cell_type": "code",
   "execution_count": 20,
   "metadata": {},
   "outputs": [
    {
     "data": {
      "text/html": [
       "<div>\n",
       "<style>\n",
       "    .dataframe thead tr:only-child th {\n",
       "        text-align: right;\n",
       "    }\n",
       "\n",
       "    .dataframe thead th {\n",
       "        text-align: left;\n",
       "    }\n",
       "\n",
       "    .dataframe tbody tr th {\n",
       "        vertical-align: top;\n",
       "    }\n",
       "</style>\n",
       "<table border=\"1\" class=\"dataframe\">\n",
       "  <thead>\n",
       "    <tr style=\"text-align: right;\">\n",
       "      <th></th>\n",
       "      <th>0.0004</th>\n",
       "      <th>1.5</th>\n",
       "      <th>124</th>\n",
       "      <th>1512531000848</th>\n",
       "      <th>1512576004367</th>\n",
       "      <th>3.25</th>\n",
       "      <th>COINGI</th>\n",
       "      <th>PPCBTC</th>\n",
       "      <th>PPCUSD</th>\n",
       "    </tr>\n",
       "  </thead>\n",
       "  <tbody>\n",
       "    <tr>\n",
       "      <th>0</th>\n",
       "      <td>NaN</td>\n",
       "      <td>99.947</td>\n",
       "      <td>NaN</td>\n",
       "      <td>NaN</td>\n",
       "      <td>1.512576e+12</td>\n",
       "      <td>3.33</td>\n",
       "      <td>COINGI</td>\n",
       "      <td>NaN</td>\n",
       "      <td>PPCUSD</td>\n",
       "    </tr>\n",
       "    <tr>\n",
       "      <th>1</th>\n",
       "      <td>NaN</td>\n",
       "      <td>12.500</td>\n",
       "      <td>NaN</td>\n",
       "      <td>NaN</td>\n",
       "      <td>1.512576e+12</td>\n",
       "      <td>3.43</td>\n",
       "      <td>COINGI</td>\n",
       "      <td>NaN</td>\n",
       "      <td>PPCUSD</td>\n",
       "    </tr>\n",
       "    <tr>\n",
       "      <th>2</th>\n",
       "      <td>NaN</td>\n",
       "      <td>35.400</td>\n",
       "      <td>NaN</td>\n",
       "      <td>NaN</td>\n",
       "      <td>1.512576e+12</td>\n",
       "      <td>3.56</td>\n",
       "      <td>COINGI</td>\n",
       "      <td>NaN</td>\n",
       "      <td>PPCUSD</td>\n",
       "    </tr>\n",
       "    <tr>\n",
       "      <th>3</th>\n",
       "      <td>NaN</td>\n",
       "      <td>2.667</td>\n",
       "      <td>NaN</td>\n",
       "      <td>NaN</td>\n",
       "      <td>1.512576e+12</td>\n",
       "      <td>3.84</td>\n",
       "      <td>COINGI</td>\n",
       "      <td>NaN</td>\n",
       "      <td>PPCUSD</td>\n",
       "    </tr>\n",
       "    <tr>\n",
       "      <th>4</th>\n",
       "      <td>NaN</td>\n",
       "      <td>12.500</td>\n",
       "      <td>NaN</td>\n",
       "      <td>NaN</td>\n",
       "      <td>1.512576e+12</td>\n",
       "      <td>4.54</td>\n",
       "      <td>COINGI</td>\n",
       "      <td>NaN</td>\n",
       "      <td>PPCUSD</td>\n",
       "    </tr>\n",
       "  </tbody>\n",
       "</table>\n",
       "</div>"
      ],
      "text/plain": [
       "   0.0004     1.5  124  1512531000848  1512576004367  3.25  COINGI PPCBTC  \\\n",
       "0     NaN  99.947  NaN            NaN   1.512576e+12  3.33  COINGI    NaN   \n",
       "1     NaN  12.500  NaN            NaN   1.512576e+12  3.43  COINGI    NaN   \n",
       "2     NaN  35.400  NaN            NaN   1.512576e+12  3.56  COINGI    NaN   \n",
       "3     NaN   2.667  NaN            NaN   1.512576e+12  3.84  COINGI    NaN   \n",
       "4     NaN  12.500  NaN            NaN   1.512576e+12  4.54  COINGI    NaN   \n",
       "\n",
       "   PPCUSD  \n",
       "0  PPCUSD  \n",
       "1  PPCUSD  \n",
       "2  PPCUSD  \n",
       "3  PPCUSD  \n",
       "4  PPCUSD  "
      ]
     },
     "execution_count": 20,
     "metadata": {},
     "output_type": "execute_result"
    }
   ],
   "source": [
    "data.head()"
   ]
  },
  {
   "cell_type": "code",
   "execution_count": 16,
   "metadata": {},
   "outputs": [
    {
     "data": {
      "text/html": [
       "<div>\n",
       "<style>\n",
       "    .dataframe thead tr:only-child th {\n",
       "        text-align: right;\n",
       "    }\n",
       "\n",
       "    .dataframe thead th {\n",
       "        text-align: left;\n",
       "    }\n",
       "\n",
       "    .dataframe tbody tr th {\n",
       "        vertical-align: top;\n",
       "    }\n",
       "</style>\n",
       "<table border=\"1\" class=\"dataframe\">\n",
       "  <thead>\n",
       "    <tr style=\"text-align: right;\">\n",
       "      <th></th>\n",
       "      <th>0</th>\n",
       "      <th>1</th>\n",
       "      <th>2</th>\n",
       "      <th>3</th>\n",
       "      <th>4</th>\n",
       "    </tr>\n",
       "  </thead>\n",
       "  <tbody>\n",
       "    <tr>\n",
       "      <th>0</th>\n",
       "      <td>1512576004367</td>\n",
       "      <td>COINGI</td>\n",
       "      <td>PPCUSD</td>\n",
       "      <td>3.25</td>\n",
       "      <td>1.500</td>\n",
       "    </tr>\n",
       "    <tr>\n",
       "      <th>1</th>\n",
       "      <td>1512576004367</td>\n",
       "      <td>COINGI</td>\n",
       "      <td>PPCUSD</td>\n",
       "      <td>3.33</td>\n",
       "      <td>99.947</td>\n",
       "    </tr>\n",
       "    <tr>\n",
       "      <th>2</th>\n",
       "      <td>1512576004367</td>\n",
       "      <td>COINGI</td>\n",
       "      <td>PPCUSD</td>\n",
       "      <td>3.43</td>\n",
       "      <td>12.500</td>\n",
       "    </tr>\n",
       "    <tr>\n",
       "      <th>3</th>\n",
       "      <td>1512576004367</td>\n",
       "      <td>COINGI</td>\n",
       "      <td>PPCUSD</td>\n",
       "      <td>3.56</td>\n",
       "      <td>35.400</td>\n",
       "    </tr>\n",
       "    <tr>\n",
       "      <th>4</th>\n",
       "      <td>1512576004367</td>\n",
       "      <td>COINGI</td>\n",
       "      <td>PPCUSD</td>\n",
       "      <td>3.84</td>\n",
       "      <td>2.667</td>\n",
       "    </tr>\n",
       "  </tbody>\n",
       "</table>\n",
       "</div>"
      ],
      "text/plain": [
       "               0       1       2     3       4\n",
       "0  1512576004367  COINGI  PPCUSD  3.25   1.500\n",
       "1  1512576004367  COINGI  PPCUSD  3.33  99.947\n",
       "2  1512576004367  COINGI  PPCUSD  3.43  12.500\n",
       "3  1512576004367  COINGI  PPCUSD  3.56  35.400\n",
       "4  1512576004367  COINGI  PPCUSD  3.84   2.667"
      ]
     },
     "execution_count": 16,
     "metadata": {},
     "output_type": "execute_result"
    }
   ],
   "source": [
    "df1 = pd.read_csv(\"20171206/ls.s3.0c288acf-b30c-4448-a816-f5c863b74be4.2017-12-06T16.00.part32.txt.gz\", header = None)\n",
    "df1.head()"
   ]
  },
  {
   "cell_type": "code",
   "execution_count": 17,
   "metadata": {},
   "outputs": [
    {
     "data": {
      "text/html": [
       "<div>\n",
       "<style>\n",
       "    .dataframe thead tr:only-child th {\n",
       "        text-align: right;\n",
       "    }\n",
       "\n",
       "    .dataframe thead th {\n",
       "        text-align: left;\n",
       "    }\n",
       "\n",
       "    .dataframe tbody tr th {\n",
       "        vertical-align: top;\n",
       "    }\n",
       "</style>\n",
       "<table border=\"1\" class=\"dataframe\">\n",
       "  <thead>\n",
       "    <tr style=\"text-align: right;\">\n",
       "      <th></th>\n",
       "      <th>0</th>\n",
       "      <th>1</th>\n",
       "      <th>2</th>\n",
       "      <th>3</th>\n",
       "      <th>4</th>\n",
       "    </tr>\n",
       "  </thead>\n",
       "  <tbody>\n",
       "    <tr>\n",
       "      <th>0</th>\n",
       "      <td>1512531000848</td>\n",
       "      <td>COINGI</td>\n",
       "      <td>PPCBTC</td>\n",
       "      <td>0.00040</td>\n",
       "      <td>124.00</td>\n",
       "    </tr>\n",
       "    <tr>\n",
       "      <th>1</th>\n",
       "      <td>1512531000848</td>\n",
       "      <td>COINGI</td>\n",
       "      <td>PPCBTC</td>\n",
       "      <td>0.00043</td>\n",
       "      <td>39.10</td>\n",
       "    </tr>\n",
       "    <tr>\n",
       "      <th>2</th>\n",
       "      <td>1512531000848</td>\n",
       "      <td>COINGI</td>\n",
       "      <td>PPCBTC</td>\n",
       "      <td>0.00046</td>\n",
       "      <td>43.50</td>\n",
       "    </tr>\n",
       "    <tr>\n",
       "      <th>3</th>\n",
       "      <td>1512531000848</td>\n",
       "      <td>COINGI</td>\n",
       "      <td>PPCBTC</td>\n",
       "      <td>0.00049</td>\n",
       "      <td>369.56</td>\n",
       "    </tr>\n",
       "    <tr>\n",
       "      <th>4</th>\n",
       "      <td>1512531000848</td>\n",
       "      <td>COINGI</td>\n",
       "      <td>PPCBTC</td>\n",
       "      <td>0.00051</td>\n",
       "      <td>321.00</td>\n",
       "    </tr>\n",
       "  </tbody>\n",
       "</table>\n",
       "</div>"
      ],
      "text/plain": [
       "               0       1       2        3       4\n",
       "0  1512531000848  COINGI  PPCBTC  0.00040  124.00\n",
       "1  1512531000848  COINGI  PPCBTC  0.00043   39.10\n",
       "2  1512531000848  COINGI  PPCBTC  0.00046   43.50\n",
       "3  1512531000848  COINGI  PPCBTC  0.00049  369.56\n",
       "4  1512531000848  COINGI  PPCBTC  0.00051  321.00"
      ]
     },
     "execution_count": 17,
     "metadata": {},
     "output_type": "execute_result"
    }
   ],
   "source": [
    "df2 = pd.read_csv(\"20171206/ls.s3.1511ca11-bb4a-4dbe-a60b-fde55b70dc11.2017-12-06T03.30.part7.txt.gz\", header = None)\n",
    "df2.head()"
   ]
  },
  {
   "cell_type": "code",
   "execution_count": 18,
   "metadata": {},
   "outputs": [
    {
     "data": {
      "text/html": [
       "<div>\n",
       "<style>\n",
       "    .dataframe thead tr:only-child th {\n",
       "        text-align: right;\n",
       "    }\n",
       "\n",
       "    .dataframe thead th {\n",
       "        text-align: left;\n",
       "    }\n",
       "\n",
       "    .dataframe tbody tr th {\n",
       "        vertical-align: top;\n",
       "    }\n",
       "</style>\n",
       "<table border=\"1\" class=\"dataframe\">\n",
       "  <thead>\n",
       "    <tr style=\"text-align: right;\">\n",
       "      <th></th>\n",
       "      <th>0</th>\n",
       "      <th>1</th>\n",
       "      <th>2</th>\n",
       "      <th>3</th>\n",
       "      <th>4</th>\n",
       "    </tr>\n",
       "  </thead>\n",
       "  <tbody>\n",
       "    <tr>\n",
       "      <th>0</th>\n",
       "      <td>1512576004367</td>\n",
       "      <td>COINGI</td>\n",
       "      <td>PPCUSD</td>\n",
       "      <td>3.25</td>\n",
       "      <td>1.500</td>\n",
       "    </tr>\n",
       "    <tr>\n",
       "      <th>1</th>\n",
       "      <td>1512576004367</td>\n",
       "      <td>COINGI</td>\n",
       "      <td>PPCUSD</td>\n",
       "      <td>3.33</td>\n",
       "      <td>99.947</td>\n",
       "    </tr>\n",
       "    <tr>\n",
       "      <th>2</th>\n",
       "      <td>1512576004367</td>\n",
       "      <td>COINGI</td>\n",
       "      <td>PPCUSD</td>\n",
       "      <td>3.43</td>\n",
       "      <td>12.500</td>\n",
       "    </tr>\n",
       "    <tr>\n",
       "      <th>3</th>\n",
       "      <td>1512576004367</td>\n",
       "      <td>COINGI</td>\n",
       "      <td>PPCUSD</td>\n",
       "      <td>3.56</td>\n",
       "      <td>35.400</td>\n",
       "    </tr>\n",
       "    <tr>\n",
       "      <th>4</th>\n",
       "      <td>1512576004367</td>\n",
       "      <td>COINGI</td>\n",
       "      <td>PPCUSD</td>\n",
       "      <td>3.84</td>\n",
       "      <td>2.667</td>\n",
       "    </tr>\n",
       "  </tbody>\n",
       "</table>\n",
       "</div>"
      ],
      "text/plain": [
       "               0       1       2     3       4\n",
       "0  1512576004367  COINGI  PPCUSD  3.25   1.500\n",
       "1  1512576004367  COINGI  PPCUSD  3.33  99.947\n",
       "2  1512576004367  COINGI  PPCUSD  3.43  12.500\n",
       "3  1512576004367  COINGI  PPCUSD  3.56  35.400\n",
       "4  1512576004367  COINGI  PPCUSD  3.84   2.667"
      ]
     },
     "execution_count": 18,
     "metadata": {},
     "output_type": "execute_result"
    }
   ],
   "source": [
    "df3 = pd.concat([df1, df2])\n",
    "df3.head()"
   ]
  },
  {
   "cell_type": "code",
   "execution_count": 30,
   "metadata": {},
   "outputs": [
    {
     "data": {
      "text/plain": [
       "0    2017-12-04T01:21:15.271Z Andrews-MBP.gateway.s...\n",
       "1    2017-12-04T01:21:15.271Z Andrews-MBP.gateway.s...\n",
       "2    2017-12-04T01:21:15.271Z Andrews-MBP.gateway.s...\n",
       "3    2017-12-04T01:21:15.271Z Andrews-MBP.gateway.s...\n",
       "4    2017-12-04T01:21:15.271Z Andrews-MBP.gateway.s...\n",
       "Name: 0, dtype: object"
      ]
     },
     "execution_count": 30,
     "metadata": {},
     "output_type": "execute_result"
    }
   ],
   "source": [
    "data[0].head()"
   ]
  },
  {
   "cell_type": "code",
   "execution_count": null,
   "metadata": {
    "collapsed": true
   },
   "outputs": [],
   "source": []
  }
 ],
 "metadata": {
  "kernelspec": {
   "display_name": "Python 3",
   "language": "python",
   "name": "python3"
  },
  "language_info": {
   "codemirror_mode": {
    "name": "ipython",
    "version": 3
   },
   "file_extension": ".py",
   "mimetype": "text/x-python",
   "name": "python",
   "nbconvert_exporter": "python",
   "pygments_lexer": "ipython3",
   "version": "3.6.3"
  }
 },
 "nbformat": 4,
 "nbformat_minor": 2
}
